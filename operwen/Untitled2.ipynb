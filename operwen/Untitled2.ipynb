{
 "cells": [
  {
   "cell_type": "markdown",
   "metadata": {},
   "source": [
    "In this notebook we introduce a full worked example of applying the time dependnent Gaussian process model\n",
    "\n",
    "We are modelling the distribution of the stochastic process\n",
    "$$\n",
    "    \\mathbf{X}(t) = \\mathbf{A}(t) \\mathbf{X} + \\mathbf{f}(t)\n",
    "$$\n",
    "where $\\mathbf{A}(t)$ is a piecewise-constant matrix valued function and $\\mathbf{f}(t)$ is a (smooth) Gaussian process. We therefore need to let our model know the intervals on which $\\mathbf{A}(t)$ is constant"
   ]
  },
  {
   "cell_type": "code",
   "execution_count": 79,
   "metadata": {},
   "outputs": [],
   "source": [
    "%matplotlib inline\n",
    "import numpy as np\n",
    "import matplotlib.pyplot as plt\n",
    "import Example1\n",
    "import scipy.linalg\n",
    "\n",
    "from timevarying_covar import time_discretisation_handler\n",
    "def At(t):\n",
    "    return np.array([[-1., -2.],[3., -4]])\n",
    "\n",
    "tt = np.array([.1, .5, 1.8, 2.1]) # Observation times of data\n",
    "tk = np.array([0., 1., 3.])     # Intervals on which A(t) is constant\n",
    "\n",
    "tt *= 100\n",
    "tk *= 100\n",
    "\n",
    "\n",
    "# ttm = [ (tk[0]+tt[0])/2. , (tk[0]+tt[1])]\n",
    "tta, ttm, ttb,_ = time_discretisation_handler(tt, tk, lambda x: None, 2)\n",
    "Att = [At(t) for t in ttm]\n",
    "\n",
    "Ati = []\n",
    "for i in range(tt.size):\n",
    "    # find the interval in which t[i] is in \n",
    "    interval = sum(tk < tt[i])\n",
    "    Ati.append( At( 0.5*(tk[interval-1] + tk[interval] )) )\n",
    "\n",
    "Atk = []\n",
    "# assume that tk[-1] > tt[i] so it breaks before out of range\n",
    "for i in range(tk.size):\n",
    "    if tk[i+1] < tt[-1]:\n",
    "        Atk.append( At(0.5*(tk[i]+tk[i+1])) )\n",
    "    else:\n",
    "        break"
   ]
  },
  {
   "cell_type": "code",
   "execution_count": 80,
   "metadata": {},
   "outputs": [],
   "source": [
    "def makeT( Ati, Atk, tt, tk, dim):\n",
    "    NG = sum(tk < tt[-1]) - 1\n",
    "    Id = np.diag(np.ones(dim))\n",
    "    \n",
    "    result = np.zeros((tt.size*dim, NG*dim))\n",
    "    \n",
    "    for i in range(tt.size):\n",
    "        result[i*dim:(i+1)*dim, :] = np.column_stack((Id for nt in range(NG)))\n",
    "        \n",
    "        tauSet = tk[tk < tt[i]]\n",
    "        tauSet = tauSet[1:]\n",
    "        \n",
    "        if len(tauSet > 0):\n",
    "            for nt in range(tauSet.size - 1):\n",
    "                eA = scipy.linalg.expm(Atk[nt+1]*(tauSet[nt+1]-tauSet[nt]))\n",
    "                for k in range(nt+1):\n",
    "                    result[i*dim:(i+1)*dim, k*dim:(k+1)*dim] = np.dot(eA, result[i*dim:(i+1)*dim, k*dim:(k+1)*dim] )\n",
    "            \n",
    "            eAi = scipy.linalg.expm(Ati[i]*(tt[i] - tauSet[-1]))\n",
    "            for k in range(len(tauSet)):\n",
    "                result[i*dim:(i+1)*dim, k*dim:(k+1)*dim] = np.dot( eAi, result[i*dim:(i+1)*dim, k*dim:(k+1)*dim] )\n",
    "    \n",
    "    return result\n",
    "\n",
    "T = makeT( Ati, Atk, tt, tk, 2).shape"
   ]
  },
  {
   "cell_type": "code",
   "execution_count": 81,
   "metadata": {},
   "outputs": [],
   "source": [
    "## Make covariance matrix\n",
    "#from core import makeCovarMat_sqExpk_specDecomp_noSens_2 as makeCov\n",
    "\n",
    "N = len(Ati) + len(Atk)\n",
    "A = Ati + Atk\n",
    "dim = 2\n",
    "Cov = np.zeros((N*dim, N*dim))\n",
    "\n",
    "###\n",
    "timeScale = tt[-1] - tt[0]\n",
    "\n",
    "tt_ = np.concatenate((tt, [tk[1]])) / timeScale\n",
    "\n",
    "\n",
    "lScales = np.array([1., 1.]) / timeScale\n",
    "cScales = np.array([0., 1.])*timeScale**2\n",
    "\n",
    "\n",
    "for i in range(N):\n",
    "    a = timeScale*A[i]\n",
    "    Aeig, UA = np.linalg.eig(a)\n",
    "    UAinv = np.linalg.inv(a)\n",
    "    for j in range(i+1):\n",
    "        b = timeScale*A[j].T\n",
    "        Beig, UB = np.linalg.eig(b)\n",
    "        UBinv = np.linalg.inv(b)\n",
    "        \n",
    "#        kval = makeCov(np.array([tt_[i]]), np.array([tt_[j]]), (Aeig, UA, UAinv), (Beig, UB, UBinv), lScales, cScales, 2, 0., 0.)\n",
    "#        Cov[i*dim:(i+1)*dim, j*dim:(j+1)*dim] = kval\n",
    "#        Cov[j*dim:(j+1)*dim, i*dim:(i+1)*dim] = kval.T\n",
    "\n"
   ]
  },
  {
   "cell_type": "code",
   "execution_count": 82,
   "metadata": {},
   "outputs": [
    {
     "name": "stdout",
     "output_type": "stream",
     "text": [
      "[[ nan  nan]\n",
      " [ nan  nan]]\n",
      "[[ nan  nan]\n",
      " [ nan  nan]]\n"
     ]
    },
    {
     "data": {
      "text/plain": [
       "[<matplotlib.lines.Line2D at 0x10f92cd50>,\n",
       " <matplotlib.lines.Line2D at 0x110379790>]"
      ]
     },
     "execution_count": 82,
     "metadata": {},
     "output_type": "execute_result"
    },
    {
     "data": {
      "image/png": "[encoded data removed]",
      "text/plain": [
       "<matplotlib.figure.Figure at 0x10fedccd0>"
      ]
     },
     "metadata": {},
     "output_type": "display_data"
    }
   ],
   "source": [
    "from timevarying_covar_src import getCov\n",
    "\n",
    "C = getCov(tt, tk, At, np.array([0., 1.]), np.array([100., 303.]), 2, 0., 0., True)\n",
    "\n",
    "\n",
    "var = np.diag(C).reshape(tt.size, 2)\n",
    "\n",
    "from core import makeCovarMat_sqExpk_specDecomp_noSens_2 as makeCov\n",
    "\n",
    "i = 2\n",
    "j = 3\n",
    "\n",
    "Aeig, UA = np.linalg.eig( At(tt[i] ))\n",
    "UAinv = np.linalg.inv(UA)\n",
    "Beig, UB = np.linalg.eig( At(tt[j]).T)\n",
    "UBinv = np.linalg.inv(UB)\n",
    "\n",
    "lScales = np.array([1., 3.])\n",
    "cScales = np.array([0., 10.])\n",
    "\n",
    "kval = makeCov(np.array([tt[i]]), np.array([tt[j]]), (Aeig, UA, UAinv), (Beig, UB, UBinv), lScales, cScales, 2, 0., 0.)\n",
    "\n",
    "print C[i*2:(i+1)*2, j*2:(j+1)*2]\n",
    "print kval\n",
    "\n",
    "fig = plt.figure()\n",
    "ax = fig.add_subplot(111)\n",
    "ax.plot(tt, var)"
   ]
  },
  {
   "cell_type": "markdown",
   "metadata": {},
   "source": [
    "Trying to get to grips with overflow issues in the covariance"
   ]
  },
  {
   "cell_type": "code",
   "execution_count": 30,
   "metadata": {},
   "outputs": [
    {
     "name": "stdout",
     "output_type": "stream",
     "text": [
      "-20.5060966544 -21.9203102168 -1450.0 -70.7106781187\n",
      "4.94974746831 -9.19238815543 35.0 -7.07106781187\n"
     ]
    }
   ],
   "source": [
    "def func(S, T, d1, d2, l, c, s0, t0):\n",
    "    a1 = -(d1 + d2)*(S + d1*l**2)\n",
    "    b1 = (d1 + d2)*np.sqrt(2.)*l\n",
    "    lower1 = (S + d1*l**2 - t0)/(np.sqrt(2.)*l)\n",
    "    upper1 = (S + d1*l**2 - T)/(np.sqrt(2.)*l)\n",
    "    print lower1, upper1, a1, b1\n",
    "    \n",
    "func(10, 20, -3, -2., 10., 1., 0. , 0.)\n",
    "func(10./20, 20./20., -3.*20, -2*20., 1./20., 1*20**2, 0., 0. )"
   ]
  },
  {
   "cell_type": "code",
   "execution_count": 12,
   "metadata": {},
   "outputs": [
    {
     "name": "stdout",
     "output_type": "stream",
     "text": [
      "1.06864745815e+13\n",
      "8.7565107627e-27\n"
     ]
    }
   ],
   "source": [
    "from scipy.special import erf\n",
    "def func(lower, upper, a, b):\n",
    "    expr1 = np.exp(0.25*b**2)*erf(0.5*b - upper) + np.exp(b*upper)*erf(upper)\n",
    "    expr2 = np.exp(0.25*b**2)*erf(0.5*b - lower) + np.exp(b*lower)*erf(lower)\n",
    "    print expr1, expr2\n",
    "    return np.exp(a)*(expr1 - expr2)/b\n",
    "\n",
    "print np.exp(-3*-10)\n",
    "print np.exp(-3*20)"
   ]
  },
  {
   "cell_type": "code",
   "execution_count": 20,
   "metadata": {},
   "outputs": [
    {
     "data": {
      "text/plain": [
       "<matplotlib.contour.QuadContourSet at 0x10f9fab90>"
      ]
     },
     "execution_count": 20,
     "metadata": {},
     "output_type": "execute_result"
    },
    {
     "data": {
      "image/png": "[encoded data removed]",
      "text/plain": [
       "<matplotlib.figure.Figure at 0x10f3d56d0>"
      ]
     },
     "metadata": {},
     "output_type": "display_data"
    }
   ],
   "source": [
    "def f(u, c):\n",
    "    return np.exp(0.25*c**2)*erf(0.5*c-u) + np.exp(c*u)*erf(u)\n",
    "\n",
    "uu = np.linspace(-1., 1., 100)\n",
    "cc = np.linspace(-1., 1., 100)\n",
    "\n",
    "U, C = np.meshgrid(uu, cc)\n",
    "Z = f(U.ravel(), C.ravel()).reshape(U.shape)\n",
    "\n",
    "plt.contourf(U, C, Z, 30)"
   ]
  },
  {
   "cell_type": "code",
   "execution_count": 30,
   "metadata": {},
   "outputs": [
    {
     "data": {
      "text/plain": [
       "[<matplotlib.lines.Line2D at 0x11032ead0>]"
      ]
     },
     "execution_count": 30,
     "metadata": {},
     "output_type": "execute_result"
    },
    {
     "data": {
      "image/png": "[encoded data removed]",
      "text/plain": [
       "<matplotlib.figure.Figure at 0x110243290>"
      ]
     },
     "metadata": {},
     "output_type": "display_data"
    }
   ],
   "source": [
    "from scipy.integrate import odeint\n",
    "\n",
    "def dXdt(X, t):\n",
    "    return -X*(1-X)**2 \n",
    "\n",
    "\n",
    "def dZdt(Z, s, a, c):\n",
    "    return a*c*dXdt(Z/0.1, c*s)\n",
    "    \n",
    "tt = np.linspace(0., 5.)\n",
    "ss = np.linspace(0., 1.)\n",
    "x0 = 0.8\n",
    "z0 = 0.8*0.1\n",
    "\n",
    "x = odeint(dXdt, x0, tt)\n",
    "z = odeint(dZdt, z0, ss, args=(0.1, 5., ))\n",
    "\n",
    "    \n",
    "fig = plt.figure()\n",
    "ax = fig.add_subplot(111)\n",
    "ax.plot(tt, x)\n",
    "ax.plot(tt, z/0.1, '+')\n",
    "\n",
    "    "
   ]
  },
  {
   "cell_type": "code",
   "execution_count": 77,
   "metadata": {},
   "outputs": [
    {
     "name": "stdout",
     "output_type": "stream",
     "text": [
      "[ 0.    0.05  0.08]\n"
     ]
    },
    {
     "data": {
      "image/png": "[encoded data removed]",
      "text/plain": [
       "<matplotlib.figure.Figure at 0x11110bd90>"
      ]
     },
     "metadata": {},
     "output_type": "display_data"
    }
   ],
   "source": [
    "import Example1\n",
    "\n",
    "initCond = [0., 0.5, 0.8]\n",
    "tt = np.linspace(0., 120, 1000)\n",
    "\n",
    "\n",
    "odeModel = Example1.nonlinearFrictionODE()\n",
    "\n",
    "sol = odeModel.solve(initCond, tt)\n",
    "\n",
    "fig = plt.figure()\n",
    "ax = fig.add_subplot(111)\n",
    "#ax.plot(tt, sol)\n",
    "\n",
    "Yscale = 0.1\n",
    "Tscale = 20.\n",
    "\n",
    "def dYdt(Y,t):\n",
    "    return Yscale*Tscale*odeModel.dYdt(Y/Yscale, t)\n",
    "\n",
    "y0 = np.array(initCond)*Yscale\n",
    "print y0\n",
    "ss = tt/Tscale\n",
    "ysol = odeint(dYdt, y0, ss)\n",
    "\n",
    "redInd = np.linspace(10, tt.size-1, 15, dtype=np.intp)\n",
    "ax.plot(ss, ysol[:,2], 'k-')\n",
    "ax.plot(ss[redInd], ysol[redInd,2], 'ro', alpha=0.2)\n",
    "\n",
    "plt.show()"
   ]
  },
  {
   "cell_type": "code",
   "execution_count": 70,
   "metadata": {},
   "outputs": [
    {
     "name": "stdout",
     "output_type": "stream",
     "text": [
      "(1000, 2)\n"
     ]
    },
    {
     "data": {
      "text/plain": [
       "[<matplotlib.lines.Line2D at 0x1108238d0>,\n",
       " <matplotlib.lines.Line2D at 0x110823ad0>]"
      ]
     },
     "execution_count": 70,
     "metadata": {},
     "output_type": "execute_result"
    },
    {
     "data": {
      "image/png": "[encoded data removed]",
      "text/plain": [
       "<matplotlib.figure.Figure at 0x1102dd610>"
      ]
     },
     "metadata": {},
     "output_type": "display_data"
    }
   ],
   "source": [
    "evals = np.array([np.linalg.eig(odeModel.dXdt_Jac(x))[0] for x in sol[:,:2]])\n",
    "print evals.shape\n",
    "fig = plt.figure()\n",
    "ax = fig.add_subplot(111)\n",
    "ax.plot(tt, evals)"
   ]
  },
  {
   "cell_type": "code",
   "execution_count": null,
   "metadata": {
    "collapsed": true
   },
   "outputs": [],
   "source": []
  }
 ],
 "metadata": {
  "kernelspec": {
   "display_name": "Python 2",
   "language": "python",
   "name": "python2"
  },
  "language_info": {
   "codemirror_mode": {
    "name": "ipython",
    "version": 2
   },
   "file_extension": ".py",
   "mimetype": "text/x-python",
   "name": "python",
   "nbconvert_exporter": "python",
   "pygments_lexer": "ipython2",
   "version": "2.7.13"
  }
 },
 "nbformat": 4,
 "nbformat_minor": 2
}
