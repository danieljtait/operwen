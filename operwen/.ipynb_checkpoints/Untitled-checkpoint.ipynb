{
 "cells": [
  {
   "cell_type": "code",
   "execution_count": 1,
   "metadata": {
    "collapsed": true
   },
   "outputs": [],
   "source": [
    "import numpy as np\n",
    "from core import linODEGP\n",
    "import matplotlib.pyplot as plt"
   ]
  },
  {
   "cell_type": "markdown",
   "metadata": {},
   "source": [
    "In this notebook we are going to introduce the linear ODE with latent Gaussian process model which is the model definied by\n",
    "\n",
    "$$\n",
    "    \\dot{\\mathbf{X}} = \\mathbf{A} \\mathbf{X} + \\mathbf{S} \\mathbf{f(t)},\n",
    "$$\n",
    "\n",
    "where each component of the Gaussian process vector is of the form\n",
    "\n",
    "$$\n",
    "    f^{i}(t) \\sim GP( m^i(t), k^i(\\cdot,\\cdot) )\n",
    "$$"
   ]
  },
  {
   "cell_type": "markdown",
   "metadata": {},
   "source": [
    "We first describe the set up in the case that the sensitivity matrix is just the diagonal matrix. Each component of the Gaussian process is assumed to be a mean zero Gaussian process with the squared exponential covariance function\n",
    "$$\n",
    "    k_i(s, t) = c_i \\exp \\left\\{ -\\frac{(s-t)^2 }{2\\ell_i^2} \\right\\}\n",
    "$$\n",
    "we initiate an instance of the Gaussian process model with"
   ]
  },
  {
   "cell_type": "code",
   "execution_count": 3,
   "metadata": {},
   "outputs": [
    {
     "name": "stdout",
     "output_type": "stream",
     "text": [
      "[[ 0.  0.  0.  0.  0.  0.]\n",
      " [ 0.  0.  0.  0.  0.  0.]\n",
      " [ 0.  0.  0.  0.  0.  0.]\n",
      " [ 0.  0.  0.  0.  0.  0.]\n",
      " [ 0.  0.  0.  0.  0.  0.]\n",
      " [ 0.  0.  0.  0.  0.  0.]]\n"
     ]
    }
   ],
   "source": [
    "# Make some parameters \n",
    "A = np.random.uniform(size=4).reshape(2, 2)\n",
    "x0 = np.random.uniform(2)\n",
    "\n",
    "gp = linODEGP(A=A, initValue=x0, initTime=0.)\n",
    "cScales = [0., 1.] # We mask the first component\n",
    "lScales = [1., .3]\n",
    "\n",
    "gp.setKernel([cScales, lScales], ktype='sq_exp_kern')\n",
    "tt = np.linspace(0., 3., 3)\n",
    "\n",
    "cov1 = gp.makeCov_faster(tt)\n",
    "cov2 = gp.makeCov_faster2(tt)\n"
   ]
  },
  {
   "cell_type": "markdown",
   "metadata": {},
   "source": [
    "This creates an instance of our model with the assumption that $\\mathbf{S} = \\mathbf{I}$ and that $\\mathbf{A}$ is a normal matrix so that its spectral decomposition exists and in particular $\\mathbf{A} = \\mathbf{U}\\mathbf{\\Lambda}\\mathbf{U}^{-1}$. \n",
    "\n",
    "Lets make some artifical data for this example, we will assume a second ordinary differential equation of the form\n",
    "$$\n",
    "    m\\ddot{x} + kx = g(t)\n",
    "$$\n",
    "which we can put in the form of our initial model as\n",
    "$$\n",
    "    \\dot{\\mathbf{Y}} = \\begin{bmatrix} 0 & 1 \\\\ -k/m & 0  \\end{bmatrix}\\begin{bmatrix} x \\\\ \\dot{x} \\end{bmatrix} + \\begin{bmatrix} 0 \\\\ f(t) \\end{bmatrix}\n",
    "$$\n",
    "the eigenvalues of the matrix $\\mathbf{A}$ are then given by the conjugate roots of $-k/m$"
   ]
  },
  {
   "cell_type": "code",
   "execution_count": 34,
   "metadata": {},
   "outputs": [
    {
     "data": {
      "image/png": "[encoded data removed]",
      "text/plain": [
       "<matplotlib.figure.Figure at 0x10d05d4d0>"
      ]
     },
     "metadata": {},
     "output_type": "display_data"
    }
   ],
   "source": [
    "from scipy.integrate import odeint\n",
    "\n",
    "# Physical parameters\n",
    "m = 1                   # mass\n",
    "k = 1.2                 # spring constant\n",
    "x0 = np.array([0., 0.]) # initially stationary block\n",
    "\n",
    "A = np.array([[0., 1.,],\n",
    "              [-k/m, 0]])\n",
    "\n",
    "## make a true force function\n",
    "def f(t):\n",
    "    if t < 1.5:\n",
    "        return 0.\n",
    "    else:\n",
    "        return 1.\n",
    "    \n",
    "def dYdt(Y, t):\n",
    "    return np.dot(A, Y) + np.array([0., f(t)/m])\n",
    "\n",
    "tt = np.linspace(0., 5., 100)\n",
    "sol = odeint(dYdt, x0, tt)\n",
    "\n",
    "# Strip some data\n",
    "redInd = np.linspace(0, tt.size-1, 5, dtype=int)\n",
    "evalt = tt[redInd]\n",
    "Y = sol[redInd]\n",
    "\n",
    "plt.plot(tt, sol)\n",
    "plt.plot(evalt, Y, 'o')\n",
    "plt.show()"
   ]
  },
  {
   "cell_type": "markdown",
   "metadata": {},
   "source": []
  },
  {
   "cell_type": "code",
   "execution_count": 48,
   "metadata": {},
   "outputs": [
    {
     "name": "stdout",
     "output_type": "stream",
     "text": [
      "(100, 2)\n"
     ]
    },
    {
     "data": {
      "image/png": "[encoded data removed]",
      "text/plain": [
       "<matplotlib.figure.Figure at 0x10d6b7350>"
      ]
     },
     "metadata": {},
     "output_type": "display_data"
    }
   ],
   "source": [
    "gp = linODEGP(A, x0, 0.)\n",
    "\n",
    "cScales = [0., 1./m] # We mask the first component\n",
    "lScales = [1., .3]\n",
    "\n",
    "gp.setKernel([cScales, lScales], ktype='sq_exp_kern')\n",
    "\n",
    "# Note that unfortunately in this example the fact that \n",
    "# the eigenvalues come in conjugate pairs l1 = -l2 breaks the code\n",
    "# so this is a quick bodge to fix that\n",
    "gp.Aeigval += np.random.normal(size=2, scale=1e-4)\n",
    "\n",
    "cov = gp.makeCov_faster(evalt)\n",
    "\n",
    "try:\n",
    "    L = np.linalg.cholesky(cov)\n",
    "except:\n",
    "    cov += np.diag(1e-2*np.ones(cov.shape[0]))\n",
    "    L = np.linalg.cholesky(cov)\n",
    "\n",
    "mean = gp.mean(evalt)\n",
    "La = np.linalg.solve(L.T, np.linalg.solve(L, Y.ravel() - mean.ravel()))\n",
    "    \n",
    "def pred(t):\n",
    "    k12 = np.column_stack(( gp.integratedCovarksqExp(t, ti) for ti in evalt))\n",
    "    return np.dot(k12, La) + gp.mean([t])\n",
    "\n",
    "ss = np.linspace(0., 5., 100)\n",
    "res = np.array([pred(s).ravel() for s in ss])\n",
    "print res.shape\n",
    "\n",
    "fig = plt.figure()\n",
    "ax = fig.add_subplot(111)\n",
    "ax.plot(ss, res, '-.')\n",
    "ax.plot(tt, sol, 'k-', alpha=0.2)\n",
    "ax.plot(evalt, Y, 'o')\n",
    "ax.set_xlim((0., 3.))\n",
    "plt.show()"
   ]
  },
  {
   "cell_type": "code",
   "execution_count": 59,
   "metadata": {},
   "outputs": [
    {
     "data": {
      "text/plain": [
       "array([ 0.+2.19089023j,  0.+0.j        ,  0.+0.j        ,  0.-2.19089023j])"
      ]
     },
     "execution_count": 59,
     "metadata": {},
     "output_type": "execute_result"
    }
   ],
   "source": [
    "B = np.random.uniform(size=4).reshape(2, 2)\n",
    "\n",
    "eigA = np.linalg.eig(A)[0]\n",
    "\n",
    "xx, yy = np.meshgrid(eigA, eigA)\n",
    "\n",
    "xx.ravel() + yy.ravel()"
   ]
  },
  {
   "cell_type": "markdown",
   "metadata": {},
   "source": [
    "As we can wee the model smoothly interpolates between points, and therefore smooths over the discontinuity point where the force switches on. Ultimately this seems like desirable behaviour unless we possess observations just before and after the onset of motion which would allow us to to draw sensible inferences."
   ]
  },
  {
   "cell_type": "markdown",
   "metadata": {},
   "source": [
    "### p53 Gene Expression\n"
   ]
  },
  {
   "cell_type": "code",
   "execution_count": 8,
   "metadata": {},
   "outputs": [
    {
     "data": {
      "image/png": "[encoded data removed]",
      "text/plain": [
       "<matplotlib.figure.Figure at 0x104cb5fd0>"
      ]
     },
     "metadata": {},
     "output_type": "display_data"
    }
   ],
   "source": [
    "from data import p53dataObj\n",
    "import matplotlib.pyplot as plt\n",
    "#expr_203409_at\n",
    "\n",
    "p53data = p53dataObj()\n",
    "\n",
    "for var in p53data.var_list:\n",
    "    plt.plot(var[:,0], var[:,3], '+-')\n",
    "plt.show()\n"
   ]
  },
  {
   "cell_type": "code",
   "execution_count": null,
   "metadata": {
    "collapsed": true
   },
   "outputs": [],
   "source": []
  }
 ],
 "metadata": {
  "kernelspec": {
   "display_name": "Python 2",
   "language": "python",
   "name": "python2"
  },
  "language_info": {
   "codemirror_mode": {
    "name": "ipython",
    "version": 2
   },
   "file_extension": ".py",
   "mimetype": "text/x-python",
   "name": "python",
   "nbconvert_exporter": "python",
   "pygments_lexer": "ipython2",
   "version": "2.7.10"
  }
 },
 "nbformat": 4,
 "nbformat_minor": 2
}
