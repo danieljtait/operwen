{
 "cells": [
  {
   "cell_type": "markdown",
   "metadata": {},
   "source": [
    "hello"
   ]
  },
  {
   "cell_type": "code",
   "execution_count": 106,
   "metadata": {},
   "outputs": [
    {
     "name": "stdout",
     "output_type": "stream",
     "text": [
      "[ 1.19476194  0.09013375]\n",
      "[ 0.66126133  2.67653328]\n",
      "------\n",
      "[ 1.19476195  0.09013377]\n",
      "[ 0.66126136  2.67653335]\n",
      "------\n",
      "[[  3.90442203e-02   1.83126164e+00]\n",
      " [  7.32696584e-04   5.10895277e-02]]\n",
      "[[  3.90442203e-02   1.83126164e+00]\n",
      " [  7.32696584e-04   5.10895277e-02]]\n"
     ]
    }
   ],
   "source": [
    "import numpy as np\n",
    "from scipy.linalg import expm\n",
    "from scipy.integrate import odeint\n",
    "\n",
    "A = np.random.uniform(size=4).reshape(2, 2)\n",
    "def dCdt(c,t=0,A=A):\n",
    "    return np.dot(A,c)\n",
    "tt = np.linspace(0., 1., 50)\n",
    "\n",
    "\n",
    "e0 = np.array([1., 0.])\n",
    "e1 = np.array([0., 1.])\n",
    "\n",
    "c0 = np.dot(np.dot(expm(A), e0)[:,None], e0[None,:])\n",
    "c1 = np.dot(np.dot(expm(A), e1)[:,None], e1[None,:])\n",
    "\n",
    "c0 = np.dot(expm(A), e0)\n",
    "c1 = np.dot(expm(A), e1)\n",
    "print c0\n",
    "print c1\n",
    "print \"------\"\n",
    "print odeint(dCdt, e0, tt)[-1,]\n",
    "print odeint(dCdt, e1, tt)[-1,]\n",
    "\n",
    "def ck(k,A):\n",
    "    ek = np.zeros(2)\n",
    "    ek[k] = 1.\n",
    "    return np.dot(expm(A), ek)\n",
    "\n",
    "print \"------\"\n",
    "eps = 1e-6\n",
    "Ap = A.copy()\n",
    "m = 0\n",
    "n = 1\n",
    "Ap[m, n] += eps\n",
    "dc0da = (ck(0, Ap) - ck(0, A))/eps\n",
    "dc1da = (ck(1, Ap) - ck(1, A))/eps\n",
    "\n",
    "print np.outer(dc0da, e0) + np.outer(dc1da, e1)\n",
    "print (expm(Ap) - expm(A))/eps"
   ]
  },
  {
   "cell_type": "code",
   "execution_count": 107,
   "metadata": {},
   "outputs": [
    {
     "name": "stdout",
     "output_type": "stream",
     "text": [
      "[[ 1.19476194  0.66126133]\n",
      " [ 0.09013375  2.67653328]]\n",
      "\n",
      "[[ 1.19476194  0.66126133]\n",
      " [ 0.09013375  2.67653328]]\n",
      "\n"
     ]
    }
   ],
   "source": [
    "print expm(A)\n",
    "print \"\"\n",
    "print np.outer(c0, e0) + np.outer(c1, e1)\n",
    "print \"\""
   ]
  },
  {
   "cell_type": "code",
   "execution_count": 111,
   "metadata": {},
   "outputs": [
    {
     "name": "stdout",
     "output_type": "stream",
     "text": [
      "[ 0.03904422  0.0007327 ]\n",
      "[ 0.03904422  0.0007327 ]\n"
     ]
    }
   ],
   "source": [
    "print (ck(0, Ap) - ck(0,A))/eps\n",
    "def dsdt(s, t, k):\n",
    "    Emn = np.zeros((2,2))\n",
    "    Emn[m, n] = 1.\n",
    "    ek = np.zeros(2)\n",
    "    ek[k] = 1.\n",
    "    return np.dot(A, s) + np.dot(Emn, ck(k, A))\n",
    "\n",
    "#print odeint(dsdt, [0., 0.], tt, args=(0, ))[-1,]"
   ]
  },
  {
   "cell_type": "markdown",
   "metadata": {},
   "source": [
    "# We are interested in\n",
    "$$\n",
    "    \\frac{\\partial e^{\\mathbf{A}}}{\\partial a_{mn} } ,\n",
    "$$\n",
    "but we note that the $k$th column, $\\mathbf{c}_k$ of $e^{\\mathbf{A}}$ is a solution to the ordinary differential equation\n",
    "$$\n",
    "    \\dot{\\mathbf{c}}_k = \\mathbf{A}\\mathbf{c}_k, \\qquad \\mathbf{c}_k(0) = \\mathbf{e}_k.\n",
    "$$\n",
    "Define the variable \n",
    "$$\n",
    "\\begin{align*}\n",
    "    s^{(k)}_{mn} = \\frac{\\partial}{\\partial a_{mn}} c_k (t ; \\mathbf{A} )\n",
    "\\end{align*}\n",
    "$$\n",
    "then\n",
    "$$\n",
    "\\begin{align*}\n",
    "    \\dot{s}^{(k)}_{mn} &= \\frac{\\partial F}{\\partial c } s + \\frac{\\partial F}{\\partial a_{mn} } \\\\\n",
    "    &= \\mathbf{A} \\mathbf{s} + \\left( a_{mn} \\mathbf{E}_{mn} \\right)\\mathbf{c}_k.\n",
    "\\end{align*}\n",
    "$$\n",
    "Of course we know $\\mathbf{c}_k$ as a function explicitly and so we can write the solution as\n",
    "$$\n",
    "\\begin{align*}\n",
    "    s &= \\exp\\left\\{\\mathbf{A}\\right\\}\\mathbf{e}_k + \\int_{0}^{1} e^{\\mathbf{A}(1-s)} \\mathbf{c}_k(s) ds \\\\\n",
    "    &= \\exp\\left\\{\\mathbf{A}\\right\\}\\mathbf{0} + a_{mn}e^{\\mathbf{A}}\\int_{0}^{1} e^{-\\mathbf{A}s} \\left( E_{mn} \\right) e^{\\mathbf{A}s} e_\\mathbf{k} ds\n",
    "\\end{align*}\n",
    "$$"
   ]
  },
  {
   "cell_type": "code",
   "execution_count": 62,
   "metadata": {},
   "outputs": [
    {
     "name": "stdout",
     "output_type": "stream",
     "text": [
      "[ 1.83029645  0.25417179]\n",
      "[ 0.00558835  0.19970956]\n"
     ]
    }
   ],
   "source": [
    "from scipy.integrate import quad, odeint\n",
    "\n",
    "def dSdt(SC, t, m, n):\n",
    "    s = SC[:2]\n",
    "    c = SC[2:]\n",
    "    \n",
    "    E = np.zeros((2, 2))\n",
    "    E[m, n] = 1.\n",
    "\n",
    "    sdot = np.dot(A, s) + A[m,n]*np.dot(Emn, c)\n",
    "    cdot = np.dot(A, c)\n",
    "    \n",
    "    return np.concatenate((sdot, cdot))\n",
    "\n",
    "def result(m, n):\n",
    "    eps = 1e-6\n",
    "    \n",
    "    Ap = A.copy()\n",
    "    Ap[m, n] += eps\n",
    "    \n",
    "    return (expm(Ap) - expm(A))/eps\n",
    "\n",
    "def result2(k, m, n):\n",
    "    Emn = np.zeros((2,2))\n",
    "    Emn[m,n] = 1.\n",
    "    ek = np.zeros(2)\n",
    "    ek[k] = 1.\n",
    "    def integrand(s, l):\n",
    "        M = np.dot(expm(-A*s), np.dot(Emn, expm(A*s)))\n",
    "        return np.dot(M, ek)[l]\n",
    "    \n",
    "    res = np.zeros(2)\n",
    "    for l in range(2):\n",
    "        res[l] = quad(integrand, 0., 1., (l,))[0]\n",
    "    res = A[m,n]*np.dot(expm(A), res)\n",
    "    return res\n",
    "    #return np.dot(expm(A), ek) + res\n",
    "\n",
    "print result(0, 0)[:,0]\n",
    "#print result2(0, 0, 0)[:,None]\n",
    "\n",
    "x0 = np.array([0., 0., 1., 0.])\n",
    "tt = np.linspace(0., 1.)\n",
    "sol = odeint(dSdt, x0, tt, args=(m, n))\n",
    "print sol[-1,:2]\n",
    "#print sol[-1,2:]\n",
    "#print np.dot(expm(A), [1., 0.])"
   ]
  },
  {
   "cell_type": "code",
   "execution_count": null,
   "metadata": {
    "collapsed": true
   },
   "outputs": [],
   "source": []
  }
 ],
 "metadata": {
  "kernelspec": {
   "display_name": "Python 2",
   "language": "python",
   "name": "python2"
  },
  "language_info": {
   "codemirror_mode": {
    "name": "ipython",
    "version": 2
   },
   "file_extension": ".py",
   "mimetype": "text/x-python",
   "name": "python",
   "nbconvert_exporter": "python",
   "pygments_lexer": "ipython2",
   "version": "2.7.13"
  }
 },
 "nbformat": 4,
 "nbformat_minor": 2
}
