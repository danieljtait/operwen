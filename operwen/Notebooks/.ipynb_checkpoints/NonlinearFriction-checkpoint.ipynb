{
 "cells": [
  {
   "cell_type": "markdown",
   "metadata": {},
   "source": [
    "We are going to examine an extended example of the nonlinear modelling with a latent force, in particular highlighting the particular knowledge of the form of the differential equation that can be passed to our fitting function. \n",
    "\n",
    "The particular example we consider is described by the following set of differential equations\n",
    "\\begin{align*}\n",
    "    \\dot{u} &= v - 1 \\\\\n",
    "    \\ddot{u} &= -\\gamma^2 \\left[u + 1/\\xi(\\theta + \\ln(v) \\right]\n",
    "\\end{align*}\n",
    "letting $x = u$ and $y = \\dot{u}$ we can consider the related first order system\n",
    "\\begin{align*}\n",
    "    \\dot{x} &= y \\\\\n",
    "    \\dot{y} &= -\\gamma^2 x - -(\\gamma^2/\\xi) \\ln(y+1) - (\\gamma^2/\\xi) \\theta(t)\n",
    "\\end{align*}\n",
    "the Jacobian of the system is given by\n",
    "\\begin{align}\n",
    "    J(x(t), y(t) ) &= \n",
    "    \\begin{bmatrix} \n",
    "        0 & 1 \\\\\n",
    "        -\\gamma^2 & -\\frac{\\gamma^2}{\\xi(y(t)+1) }\n",
    "    \\end{bmatrix}.\n",
    "\\end{align}\n",
    "By consider a distringuished trajectory of this system, say $x^*(t), y^*(t)$ the eigenvalues of the system along this path are given by\n",
    "\n",
    "\\begin{align*}\n",
    "    \\lambda_1^*(t) &= - \\frac{\\sqrt{\\gamma^2(-4\\xi^2y^*(t)^2 - 8\\xi^2 y^* (t) - 4\\xi^2 + \\gamma^2} - \\gamma^2}{ 2\\xi(y^*(t)+1) } \\\\\n",
    "    \\lambda_2^*(t) &=  \\frac{\\sqrt{\\gamma^2(-4\\xi^2y^*(t)^2 - 8\\xi^2 y^* (t) - 4\\xi^2 + \\gamma^2} - \\gamma^2}{ 2\\xi(y^*(t)+1) } \n",
    "\\end{align*}\n"
   ]
  },
  {
   "cell_type": "markdown",
   "metadata": {},
   "source": [
    "We are now going to define some user supplied functions allowing us to quickly return the matrix exponential \n",
    "\n",
    "$$\n",
    "\\begin{align*}\n",
    "    \\exp\\left( \\mathbf{J}((t_a + t_b)/2) \\right) \n",
    "\\end{align*}\n",
    "$$"
   ]
  },
  {
   "cell_type": "code",
   "execution_count": 65,
   "metadata": {},
   "outputs": [],
   "source": [
    "import numpy as np\n",
    "from scipy.integrate import odeint\n",
    "import matplotlib.pyplot as plt\n",
    "\n",
    "\n",
    "xi = 0.3\n",
    "gamma = 1.\n",
    "\n",
    "def dXdt_Jac(X, t=0):\n",
    "    return np.array([[0., 1.], [-gamma**2, -gamma**2/(xi*(X[1] + 1))]])\n",
    "\n",
    "def eigvals(X):\n",
    "    X = np.asarray(X, dtype='complex')\n",
    "    expr = np.sqrt( gamma**2*(-4*xi**2*X[1]**2 - 8*xi**2*X[1] - 4*xi**2 + gamma**2) )\n",
    "    l1 = (-expr - gamma**2)/(2*xi*(X[1] + 1))\n",
    "    l2 = (expr - gamma**2)/(2*xi*(X[1]+1))\n",
    "    return l1, l2\n",
    "\n",
    "def eigvec(X):\n",
    "    X = np.asarray(X, dtype='complex')\n",
    "    expr = np.sqrt(gamma**2*(gamma**2 - 4*xi**2*(X[1]+1)**2))\n",
    "    v1 = np.array([(expr - gamma**2)/(2*xi*gamma**2*(1+X[1])), 1.])\n",
    "    v2 = np.array([-(gamma**2+expr)/(2*xi*gamma**2*(1+X[1])), 1.])\n",
    "    return v1, v2\n",
    "\n",
    "def eigenDecomp(X):\n",
    "    l = eigvals(X)\n",
    "    v1, v2 = eigvec(X)\n",
    "    V = np.column_stack((v1, v2))\n",
    "    Vinv = np.linalg.inv(V)\n",
    "    return l, V, Vinv\n",
    "\n",
    "def expmJ(X, tb, t):\n",
    "    ll, V, Vinv = eigenDecomp(X)\n",
    "    D = np.diag([np.exp(l*(tb-t)) for l in ll])\n",
    "    return np.real(np.dot(V, np.dot(D, Vinv)))\n"
   ]
  },
  {
   "cell_type": "markdown",
   "metadata": {},
   "source": [
    "The point being we can now introduced the system linearised along this trajectory given by\n",
    "\\begin{align*}\n",
    "    \\begin{bmatrix}\n",
    "        \\dot{\\delta}_x \\\\ \\dot{\\delta}_y \n",
    "    \\end{bmatrix} = \n",
    "    \\begin{bmatrix}\n",
    "        0 & 1 \\\\\n",
    "        -\\gamma^2 & -\\frac{\\gamma^2}{\\xi(y^*(t)+1) }\n",
    "    \\end{bmatrix}\\begin{bmatrix} \\delta_x \\\\ \\delta_y \\end{bmatrix} + \\begin{bmatrix} 0 \\\\ \\delta_f(t) \\end{bmatrix}\n",
    "\\end{align*}"
   ]
  },
  {
   "cell_type": "markdown",
   "metadata": {},
   "source": [
    "We extend the system we are interested in with a known functional form for the latent state $\\theta(t)$ described by\n",
    "\\begin{align*}\n",
    "    \\dot{u} &= v - 1 \\\\\n",
    "    \\dot{v} &= -\\gamma^2\\left[ \\right] \\\\\n",
    "    \\dot{\\theta} &= -v(\\theta + (1+\\epsilon)\\ln(v) )\n",
    "\\end{align*}\n",
    "\n",
    "Below we set up the true governing dynamics and take some noisy observations:"
   ]
  },
  {
   "cell_type": "code",
   "execution_count": 96,
   "metadata": {},
   "outputs": [
    {
     "data": {
      "image/png": "[encoded data removed]",
      "text/plain": [
       "<matplotlib.figure.Figure at 0x10ebe2250>"
      ]
     },
     "metadata": {},
     "output_type": "display_data"
    }
   ],
   "source": [
    "eps = 1.9\n",
    "\n",
    "def dYdt(Y, t=0):\n",
    "    udot = Y[1] - 1\n",
    "    vdot = -gamma**2*(Y[0] + (1/xi)*(Y[2] + np.log(Y[1])))\n",
    "    fdot = -Y[1]*(Y[2]+(1+eps)*np.log(Y[1]))\n",
    "    return np.array([udot, vdot, fdot])\n",
    "\n",
    "initCond = [0., 0.5, 0.8]\n",
    "tt = np.linspace(0., 120, 1000)\n",
    "\n",
    "obsInd = np.linspace(0, tt.size-1, 10, dtype=np.intp)\n",
    "evalt = tt[obsInd]\n",
    "\n",
    "sol = odeint(dYdt, initCond, tt)\n",
    "evalU = sol[obsInd,0] + np.random.normal(size=evalt.size, scale=3.)\n",
    "\n",
    "\n",
    "fig = plt.figure()\n",
    "ax = fig.add_subplot(111)\n",
    "ax.plot(tt, sol[:,0], 'b-', alpha=0.2)\n",
    "ax.plot(evalt, evalU, 'ro')\n",
    "plt.show()\n"
   ]
  },
  {
   "cell_type": "markdown",
   "metadata": {},
   "source": [
    "### Standard Gaussian Process Regression\n",
    "At this point, having realised some observed data, it may be instructive to consider the result of trying to fit a conventional Gaussian process model to the displacement data"
   ]
  },
  {
   "cell_type": "code",
   "execution_count": 119,
   "metadata": {},
   "outputs": [
    {
     "data": {
      "image/png": "[encoded data removed]",
      "text/plain": [
       "<matplotlib.figure.Figure at 0x10ee51790>"
      ]
     },
     "metadata": {},
     "output_type": "display_data"
    }
   ],
   "source": [
    "c = 20.\n",
    "l = 10.\n",
    "noiseTerm = .1\n",
    "def kernel(s,t):\n",
    "    return c*np.exp(-0.5*(s-t)**2/l**2)\n",
    "\n",
    "C = np.array([[kernel(s,t) for t in evalt] for s in evalt]) + noiseTerm*np.diag(np.ones(evalt.size))\n",
    "L = np.linalg.cholesky(C)\n",
    "Cinva = np.linalg.solve(L.T, np.linalg.solve(L, evalU))\n",
    "\n",
    "def pred(t):\n",
    "    k = [kernel(t, s) for s in evalt]\n",
    "    mean = np.dot(k, Cinva)\n",
    "\n",
    "    v = kernel(t,t) + noiseTerm\n",
    "    k = [kernel(t, s) for s in evalt]\n",
    "    var = v - np.dot(k, np.linalg.solve(L.T, np.linalg.solve(L, k)))\n",
    "\n",
    "    return mean, var\n",
    "    \n",
    "fig2 = plt.figure()\n",
    "ax = fig2.add_subplot(111)\n",
    "ax.plot(tt, sol[:,0], 'k-', alpha=0.2)\n",
    "ax.plot(evalt, evalU, 'ro')\n",
    "\n",
    "MV = np.array([pred(t) for t in tt])\n",
    "sd = np.sqrt(MV[:,1])\n",
    "\n",
    "ax.plot(tt, MV[:,0])\n",
    "ax.fill_between(tt, MV[:,0] + 2*sd, MV[:,0] - 2*sd, facecolor='blue', alpha=0.2)\n",
    "\n",
    "plt.show()\n"
   ]
  },
  {
   "cell_type": "markdown",
   "metadata": {},
   "source": [
    "Clearly the choice of a squared exponential kernel does a poor job of recovering the true evolution of the displacement, now it may be possible to rectify this by choosing a more appropriate kernel, but for the practitioner interested in physical hypothesis regarding the underlying dynamics there is a more important reason for considering the more complicated models and that is to uncover the latent processes governing these dynamics."
   ]
  },
  {
   "cell_type": "code",
   "execution_count": 123,
   "metadata": {},
   "outputs": [
    {
     "name": "stdout",
     "output_type": "stream",
     "text": [
      "57.0623341222\n"
     ]
    }
   ],
   "source": [
    "print 22*(1.1)**10"
   ]
  },
  {
   "cell_type": "code",
   "execution_count": null,
   "metadata": {
    "collapsed": true
   },
   "outputs": [],
   "source": []
  }
 ],
 "metadata": {
  "kernelspec": {
   "display_name": "Python 2",
   "language": "python",
   "name": "python2"
  },
  "language_info": {
   "codemirror_mode": {
    "name": "ipython",
    "version": 2
   },
   "file_extension": ".py",
   "mimetype": "text/x-python",
   "name": "python",
   "nbconvert_exporter": "python",
   "pygments_lexer": "ipython2",
   "version": "2.7.13"
  }
 },
 "nbformat": 4,
 "nbformat_minor": 2
}
