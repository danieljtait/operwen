{
 "cells": [
  {
   "cell_type": "code",
   "execution_count": 27,
   "metadata": {},
   "outputs": [
    {
     "name": "stdout",
     "output_type": "stream",
     "text": [
      "26\n"
     ]
    },
    {
     "data": {
      "image/png": "[encoded data removed]",
      "text/plain": [
       "<matplotlib.figure.Figure at 0x10b8278d0>"
      ]
     },
     "metadata": {},
     "output_type": "display_data"
    }
   ],
   "source": [
    "%matplotlib inline\n",
    "\n",
    "import numpy as np\n",
    "import matplotlib.pyplot as plt\n",
    "import Example1\n",
    "from timevarying_covar import time_discretisation_handler\n",
    "\n",
    "odeModel = Example1.nonlinearFrictionODE()\n",
    "\n",
    "\n",
    "dim = 2\n",
    "initCond = [0., 0.5, 0.8]\n",
    "tt = np.linspace(0., 120, 1000)\n",
    "\n",
    "sol = odeModel.solve(initCond, tt)\n",
    "\n",
    "eigVal = []\n",
    "for i in range(tt.size):\n",
    "    A = odeModel.dXdt_Jac(sol[i,:2])\n",
    "    la, UA = np.linalg.eig(A)\n",
    "    eigVal.append(la)\n",
    "eigVal = np.array(eigVal)\n",
    "\n",
    "tk = np.array([6, 15, 17, 19, 50, 87, 90, 92, 120])\n",
    "\n",
    "fig = plt.figure()\n",
    "ax = fig.add_subplot(111)\n",
    "ax.plot(tt, np.real(eigVal[:,0]))\n",
    "#ax.plot(tt, np.real(eigVal[:,1]))\n",
    "\n",
    "for t in tk:\n",
    "    ax.plot([t, t], [-1. , 0.], 'k-.')\n",
    "\n",
    "changePoints = 0.\n",
    "eCur = max(np.real(eigVal[0,]))\n",
    "\n",
    "TT = [0.]\n",
    "LL = [eCur]\n",
    "\n",
    "for i in range(tt.size):\n",
    "    e = max(np.real(eigVal[i,]))\n",
    "    if abs(e - eCur) > 0.1:\n",
    "        TT.append(tt[i])\n",
    "        LL.append(e)\n",
    "        eCur = e\n",
    "\n",
    "print len(LL)\n",
    "ax.plot(TT, LL, '+')\n",
    "plt.show()\n"
   ]
  },
  {
   "cell_type": "code",
   "execution_count": 29,
   "metadata": {},
   "outputs": [],
   "source": [
    "from core import makeCovarMat_sqExpk_specDecomp_noSens_2 as makeCov"
   ]
  },
  {
   "cell_type": "code",
   "execution_count": 229,
   "metadata": {},
   "outputs": [
    {
     "name": "stdout",
     "output_type": "stream",
     "text": [
      "[[-0.94751797 -0.28427453]\n",
      " [ 0.38269322  0.1148157 ]]\n",
      "[[-0.94751797 -0.28427453]\n",
      " [ 0.38269322  0.1148157 ]]\n"
     ]
    }
   ],
   "source": [
    "x = sol[100,:2]\n",
    "y = sol[800,:2]\n",
    "\n",
    "A = odeModel.dXdt_Jac(x)\n",
    "B = odeModel.dXdt_Jac(y)\n",
    "\n",
    "Aeig, UA = np.linalg.eig(A)\n",
    "UAinv = np.linalg.inv(A)\n",
    "\n",
    "Beig, UB = np.linalg.eig(B)\n",
    "UBinv = np.linalg.inv(B)\n",
    "\n",
    "ss = np.array([1.])\n",
    "tt = np.array([1.5])\n",
    "#tt = np.linspace(0., 5., 15)\n",
    "\n",
    "lScales = np.array([1., 10.])\n",
    "cScales = np.array([0., 1.])\n",
    "\n",
    "#print Aeig\n",
    "#print Beig\n",
    "k = makeCov(ss, tt, (Aeig, UA, UAinv), (Beig, UB, UBinv), lScales, cScales, 2, 0. ,0.)\n",
    "print k\n",
    "\n",
    "c = 5.\n",
    "\n",
    "cc = cScales*c**2\n",
    "ll = lScales/c\n",
    "\n",
    "ssR = ss/c\n",
    "ttR = tt/c\n",
    "\n",
    "\n",
    "kr = makeCov(ssR, ttR, (Aeig*c, UA, UAinv), (Beig*c, UB, UBinv), ll, cc, 2, 0. ,0.)\n",
    "\n",
    "print kr\n",
    "\n",
    "#for t in tt:\n",
    "#    ss = np.array([t])\n",
    "#    k = makeCov(ss, tt, (Aeig, UA, UAinv), (Beig, UB, UBinv), lScales, cScales, 2, 0. ,0.)\n",
    "#print \"DONE\""
   ]
  },
  {
   "cell_type": "code",
   "execution_count": 224,
   "metadata": {},
   "outputs": [
    {
     "name": "stdout",
     "output_type": "stream",
     "text": [
      "0.433773972832\n",
      "0.433773972832\n"
     ]
    }
   ],
   "source": [
    "from scipy.integrate import quad\n",
    "\n",
    "def g(t):\n",
    "    return np.exp(-0.5*t)\n",
    "\n",
    "def integrand(t):\n",
    "    return np.exp(-3*t**2)*g(t)\n",
    "\n",
    "c = 5\n",
    "def integrand2(s):\n",
    "    return integrand(c*s)\n",
    "\n",
    "a = 0.\n",
    "b = 1.\n",
    "\n",
    "print quad(integrand, a, b)[0]\n",
    "print quad(integrand2, a/c, b/c)[0]*c\n"
   ]
  },
  {
   "cell_type": "code",
   "execution_count": 170,
   "metadata": {},
   "outputs": [
    {
     "name": "stdout",
     "output_type": "stream",
     "text": [
      "-0.0 6.66666666667e-10\n"
     ]
    }
   ],
   "source": [
    "from scipy.special import erf\n",
    "\n",
    "def linexperfInf_nzb(a, b, lower, upper):\n",
    "    expr1 = np.exp(0.25*b**2)*erf(0.5*b - upper) + np.exp(b*upper)*erf(upper)\n",
    "    expr2 = np.exp(0.25*b**2)*erf(0.5*b - lower) + np.exp(b*lower)*erf(lower)\n",
    "    return np.exp(a)*(expr1 - expr2)/b\n",
    "\n",
    "def linexperfInf_nzb_logOF(a, b, lower, upper):\n",
    "    expr1 = 0.25*b**2 + np.log(erf(0.5*b - upper)) + b*upper + np.log(erf(upper))\n",
    "    expr2 = 0.25*b**2 + np.log(erf(0.5*b - lower)) + b*lower + np.log(erf(lower))\n",
    "    \n",
    "def result(a, b, lower, upper):\n",
    "    A = np.exp(0.25*b**2)*erf(0.5*b - upper) - np.exp(0.25*b**2)*erf(0.5*b - lower) + np.sign(b)*1e-8\n",
    "    B = np.exp(b*upper)*erf(upper) - np.exp(b*lower)*erf(lower)\n",
    "    A /= b\n",
    "    B /= b\n",
    "    \n",
    "    logA = 0.25*b**2 + np.log(erf(0.5*b-upper)/b - erf(0.5*b-lower)/b + 1e-8)\n",
    "    log_res = a + np.log(A) + np.log(1 + B*b*np.exp(-0.25*b**2)/(erf(0.5*b-upper) - erf(0.5*b-lower) + 1e-8) )\n",
    "    return np.exp(log_res)\n",
    "\n",
    "b = -15.\n",
    "upper = 10.\n",
    "lower = 0.\n",
    "x = linexperfInf_nzb(0., b, lower, upper)\n",
    "y = result(0., b, lower, upper)\n",
    "print x, y\n",
    "#print x,y\n",
    "\n"
   ]
  },
  {
   "cell_type": "code",
   "execution_count": 187,
   "metadata": {},
   "outputs": [
    {
     "data": {
      "image/png": "[encoded data removed]",
      "text/plain": [
       "<matplotlib.figure.Figure at 0x10bad07d0>"
      ]
     },
     "metadata": {},
     "output_type": "display_data"
    }
   ],
   "source": [
    "from scipy.integrate import odeint\n",
    "\n",
    "def dYdt(Y,t):\n",
    "    return -Y*(1-Y)**2 + np.exp(-0.4*t)\n",
    "\n",
    "def dZdt(Z, t, c):\n",
    "    return c*dYdt(Z, c*t)\n",
    "\n",
    "tt = np.linspace(0., 5., 100)\n",
    "y0 = 0.8\n",
    "z0 = 0.8\n",
    "\n",
    "ss = np.linspace(0., 1., 100)\n",
    "c = 5.\n",
    "\n",
    "ysol = odeint(dYdt, y0, tt)\n",
    "zsol = odeint(dZdt, z0, ss, args=(c,))\n",
    "\n",
    "plt.plot(tt, ysol)\n",
    "plt.plot(c*ss, zsol)\n",
    "plt.show()"
   ]
  },
  {
   "cell_type": "code",
   "execution_count": null,
   "metadata": {
    "collapsed": true
   },
   "outputs": [],
   "source": []
  }
 ],
 "metadata": {
  "kernelspec": {
   "display_name": "Python 2",
   "language": "python",
   "name": "python2"
  },
  "language_info": {
   "codemirror_mode": {
    "name": "ipython",
    "version": 2
   },
   "file_extension": ".py",
   "mimetype": "text/x-python",
   "name": "python",
   "nbconvert_exporter": "python",
   "pygments_lexer": "ipython2",
   "version": "2.7.13"
  }
 },
 "nbformat": 4,
 "nbformat_minor": 2
}
