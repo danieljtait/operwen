{
 "cells": [
  {
   "cell_type": "code",
   "execution_count": 27,
   "metadata": {},
   "outputs": [
    {
     "name": "stdout",
     "output_type": "stream",
     "text": [
      "26\n"
     ]
    },
    {
     "data": {
      "image/png": "[encoded data removed]",
      "text/plain": [
       "<matplotlib.figure.Figure at 0x10b8278d0>"
      ]
     },
     "metadata": {},
     "output_type": "display_data"
    }
   ],
   "source": [
    "%matplotlib inline\n",
    "\n",
    "import numpy as np\n",
    "import matplotlib.pyplot as plt\n",
    "import Example1\n",
    "from timevarying_covar import time_discretisation_handler\n",
    "\n",
    "odeModel = Example1.nonlinearFrictionODE()\n",
    "\n",
    "\n",
    "dim = 2\n",
    "initCond = [0., 0.5, 0.8]\n",
    "tt = np.linspace(0., 120, 1000)\n",
    "\n",
    "sol = odeModel.solve(initCond, tt)\n",
    "\n",
    "eigVal = []\n",
    "for i in range(tt.size):\n",
    "    A = odeModel.dXdt_Jac(sol[i,:2])\n",
    "    la, UA = np.linalg.eig(A)\n",
    "    eigVal.append(la)\n",
    "eigVal = np.array(eigVal)\n",
    "\n",
    "tk = np.array([6, 15, 17, 19, 50, 87, 90, 92, 120])\n",
    "\n",
    "fig = plt.figure()\n",
    "ax = fig.add_subplot(111)\n",
    "ax.plot(tt, np.real(eigVal[:,0]))\n",
    "#ax.plot(tt, np.real(eigVal[:,1]))\n",
    "\n",
    "for t in tk:\n",
    "    ax.plot([t, t], [-1. , 0.], 'k-.')\n",
    "\n",
    "changePoints = 0.\n",
    "eCur = max(np.real(eigVal[0,]))\n",
    "\n",
    "TT = [0.]\n",
    "LL = [eCur]\n",
    "\n",
    "for i in range(tt.size):\n",
    "    e = max(np.real(eigVal[i,]))\n",
    "    if abs(e - eCur) > 0.1:\n",
    "        TT.append(tt[i])\n",
    "        LL.append(e)\n",
    "        eCur = e\n",
    "\n",
    "print len(LL)\n",
    "ax.plot(TT, LL, '+')\n",
    "plt.show()\n"
   ]
  },
  {
   "cell_type": "code",
   "execution_count": null,
   "metadata": {
    "collapsed": true
   },
   "outputs": [],
   "source": []
  }
 ],
 "metadata": {
  "kernelspec": {
   "display_name": "Python 2",
   "language": "python",
   "name": "python2"
  },
  "language_info": {
   "codemirror_mode": {
    "name": "ipython",
    "version": 2
   },
   "file_extension": ".py",
   "mimetype": "text/x-python",
   "name": "python",
   "nbconvert_exporter": "python",
   "pygments_lexer": "ipython2",
   "version": "2.7.13"
  }
 },
 "nbformat": 4,
 "nbformat_minor": 2
}
