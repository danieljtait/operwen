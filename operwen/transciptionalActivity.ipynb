{
 "cells": [
  {
   "cell_type": "code",
   "execution_count": 11,
   "metadata": {},
   "outputs": [
    {
     "data": {
      "image/png": "[encoded data removed]",
      "text/plain": [
       "<matplotlib.figure.Figure at 0x107cef9d0>"
      ]
     },
     "metadata": {},
     "output_type": "display_data"
    }
   ],
   "source": [
    "from data import p53dataObj\n",
    "import numpy as np\n",
    "import matplotlib.pyplot as plt\n",
    "from core import linODEGP\n",
    "from scipy.stats import multivariate_normal\n",
    "#expr_203409_at\n",
    "\n",
    "p53data = p53dataObj()\n",
    "\n",
    "for var in p53data.var_list:\n",
    "    plt.plot(var[:,0], var[:,3], '+-')\n",
    "plt.show()"
   ]
  },
  {
   "cell_type": "code",
   "execution_count": 97,
   "metadata": {},
   "outputs": [
    {
     "name": "stdout",
     "output_type": "stream",
     "text": [
      "[[  188.923    561.1545   150.311    145.583     88.256 ]\n",
      " [  342.902   1161.104    312.62     360.15     190.904 ]\n",
      " [  339.3149  1561.972    404.8108   426.6762   260.2785]\n",
      " [  318.4828  1555.692    361.4937   293.7768   170.0222]\n",
      " [  285.5241  1156.999    304.2655   197.8008   151.5118]\n",
      " [  210.1645  1240.44     279.7326   198.17     152.6952]]\n"
     ]
    }
   ],
   "source": [
    "Y = np.column_stack((var[1:,3]) for var in p53data.var_list)\n",
    "tt = var[:,0]\n",
    "\n",
    "print Y"
   ]
  },
  {
   "cell_type": "code",
   "execution_count": 159,
   "metadata": {},
   "outputs": [
    {
     "name": "stdout",
     "output_type": "stream",
     "text": [
      " final_simplex: (array([[-2.84988472, -0.11065842, -0.12050658, -0.32646438, -0.64336492,\n",
      "         0.70245829,  0.18631758,  0.04666421,  0.08854267,  0.09589626],\n",
      "       [-2.84988472, -0.11065842, -0.12050658, -0.32646438, -0.64336492,\n",
      "         0.70245829,  0.18631758,  0.04666421,  0.08854267,  0.09589626],\n",
      "       [-2.84988472, -0.11065842, -0.12050658, -0.32646438, -0.64336492,\n",
      "         0.70245829,  0.18631758,  0.04666421,  0.08854267,  0.09589626],\n",
      "       [-2.84988472, -0.11065842, -0.12050658, -0.32646438, -0.64336492,\n",
      "         0.70245829,  0.18631758,  0.04666421,  0.08854267,  0.09589626],\n",
      "       [-2.84988472, -0.11065842, -0.12050658, -0.32646438, -0.64336492,\n",
      "         0.70245829,  0.18631758,  0.04666421,  0.08854267,  0.09589626],\n",
      "       [-2.84988472, -0.11065842, -0.12050658, -0.32646438, -0.64336492,\n",
      "         0.70245829,  0.18631758,  0.04666421,  0.08854267,  0.09589626],\n",
      "       [-2.84988472, -0.11065842, -0.12050658, -0.32646438, -0.64336492,\n",
      "         0.70245829,  0.18631758,  0.04666421,  0.08854267,  0.09589626],\n",
      "       [-2.84988472, -0.11065842, -0.12050658, -0.32646438, -0.64336492,\n",
      "         0.70245829,  0.18631758,  0.04666421,  0.08854267,  0.09589626],\n",
      "       [-2.84988472, -0.11065842, -0.12050658, -0.32646438, -0.64336492,\n",
      "         0.70245829,  0.18631758,  0.04666421,  0.08854267,  0.09589626],\n",
      "       [-2.84988472, -0.11065842, -0.12050658, -0.32646438, -0.64336492,\n",
      "         0.70245829,  0.18631758,  0.04666421,  0.08854267,  0.09589626],\n",
      "       [-2.84988472, -0.11065842, -0.12050658, -0.32646438, -0.64336492,\n",
      "         0.70245829,  0.18631758,  0.04666421,  0.08854267,  0.09589626]]), array([  1.35328295e+08,   1.35328295e+08,   1.35328295e+08,\n",
      "         1.35328295e+08,   1.35328295e+08,   1.35328295e+08,\n",
      "         1.35328295e+08,   1.35328295e+08,   1.35328295e+08,\n",
      "         1.35328295e+08,   1.35328295e+08]))\n",
      "           fun: 135328295.064603\n",
      "       message: 'Optimization terminated successfully.'\n",
      "          nfev: 1764\n",
      "           nit: 976\n",
      "        status: 0\n",
      "       success: True\n",
      "             x: array([-2.84988472, -0.11065842, -0.12050658, -0.32646438, -0.64336492,\n",
      "        0.70245829,  0.18631758,  0.04666421,  0.08854267,  0.09589626])\n"
     ]
    }
   ],
   "source": [
    "initCond = Y[0,:]\n",
    "lscales = np.ones(5)\n",
    "cscales = np.zeros(5)\n",
    "cscales[0] = 1.\n",
    "def basic_fit(aa, ss):\n",
    "    S = np.zeros((5, 5))\n",
    "    S[:,0] = ss\n",
    "    A = np.diag(aa)\n",
    "    gp = linODEGP(A, initCond, 0., \n",
    "                  S=S, withSens=True)\n",
    "    gp.setKernel((cscales, lscales), 'sq_exp_kern')\n",
    "    \n",
    "    mean = gp.mean(tt[1:])\n",
    "    cov = gp.makeCov_faster2(tt[1:])\n",
    "    try:\n",
    "        return multivariate_normal.logpdf(Y.ravel(), mean=mean.ravel(), cov=cov)\n",
    "    except:\n",
    "        cov += np.diag(1e-4*np.ones(cov.shape[0]))\n",
    "        return multivariate_normal.logpdf(Y.ravel(), mean=mean.ravel(), cov=cov)\n",
    "    \n",
    "np.random.seed(14)\n",
    "ss = np.array([1., 0.1, 0.1, 0.1, 0.1])\n",
    "#a0 = -0.5*np.random.uniform(size=5)\n",
    "#a0 = np.array([-1.98435936, -0.04232296, -0.26032827, -0.28341201, -0.94390683])\n",
    "a0 = np.array([-2.78909345, -0.03548324, -0.31942598, -0.36181188, -0.60670806])\n",
    "#print basic_fit( a0 , ss )\n",
    "\n",
    "from scipy.optimize import minimize\n",
    "\n",
    "def objfunc(a):\n",
    "    try:\n",
    "        return -basic_fit(a, ss)\n",
    "    except:\n",
    "        return np.inf\n",
    "\n",
    "def objfunc2(par):\n",
    "    a = par[:5]\n",
    "    s = par[5:]\n",
    "    try:\n",
    "        return -basic_fit(a, s)\n",
    "    except:\n",
    "        return np.inf\n",
    "    \n",
    "#res = minimize(objfunc, a0, method='Nelder-Mead')\n",
    "par0 = np.concatenate((a0, ss))\n",
    "#par0 = np.array([-2.84988472, -0.11065842, -0.12050658, -0.32646438, -0.64336492,\n",
    "#                 0.70245829,  0.18631758,  0.04666421,  0.08854267,  0.09589626])\n",
    "#par0 = np.array([-2.84988472, -0.11065842, -0.12050658, -0.32646438, -0.64336492,\n",
    "#                  0.70000000,  0.10000000,  0.04000000,  0.09000000,  0.09000000])\n",
    "res2 = minimize(objfunc2, par0, method='Nelder-Mead')\n",
    "#print res\n",
    "print res2"
   ]
  },
  {
   "cell_type": "code",
   "execution_count": 157,
   "metadata": {},
   "outputs": [
    {
     "name": "stdout",
     "output_type": "stream",
     "text": [
      "[-2.80056082 -0.11420469 -0.12130673 -0.32598485 -0.64255799  0.71338955\n",
      "  0.18775623  0.04719191  0.08843343  0.09550159]\n"
     ]
    }
   ],
   "source": [
    "print res2.x"
   ]
  },
  {
   "cell_type": "code",
   "execution_count": 127,
   "metadata": {},
   "outputs": [
    {
     "name": "stdout",
     "output_type": "stream",
     "text": [
      "[[ 1.  1.  1.  1.  1.]\n",
      " [ 1.  1.  1.  1.  1.]\n",
      " [ 1.  1.  1.  1.  1.]\n",
      " [ 1.  1.  1.  1.  1.]\n",
      " [ 1.  1.  1.  1.  1.]]\n"
     ]
    }
   ],
   "source": [
    "C = np.zeros((5, 5))\n",
    "C[0,0] = 1.\n",
    "\n",
    "S = np.zeros((5, 5))\n",
    "S[:, 0] = np.ones(5)\n",
    "print np.dot(S, np.dot(C, S.T))"
   ]
  },
  {
   "cell_type": "code",
   "execution_count": null,
   "metadata": {
    "collapsed": true
   },
   "outputs": [],
   "source": []
  }
 ],
 "metadata": {
  "kernelspec": {
   "display_name": "Python 2",
   "language": "python",
   "name": "python2"
  },
  "language_info": {
   "codemirror_mode": {
    "name": "ipython",
    "version": 2
   },
   "file_extension": ".py",
   "mimetype": "text/x-python",
   "name": "python",
   "nbconvert_exporter": "python",
   "pygments_lexer": "ipython2",
   "version": "2.7.13"
  }
 },
 "nbformat": 4,
 "nbformat_minor": 2
}
