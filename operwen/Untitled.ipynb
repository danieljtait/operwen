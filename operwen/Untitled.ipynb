{
 "cells": [
  {
   "cell_type": "code",
   "execution_count": 1,
   "metadata": {},
   "outputs": [
    {
     "data": {
      "image/png": "[encoded data removed]",
      "text/plain": [
       "<matplotlib.figure.Figure at 0x1140df850>"
      ]
     },
     "metadata": {},
     "output_type": "display_data"
    }
   ],
   "source": [
    "import numpy as np\n",
    "import matplotlib.pyplot as plt\n",
    "import Example1\n",
    "from timevarying_covar import time_discretisation_handler\n",
    "\n",
    "odeModel = Example1.nonlinearFrictionODE()\n",
    "\n",
    "\n",
    "initCond = [0., 0.5, 0.8]\n",
    "tt = np.linspace(0., 120, 100)\n",
    "\n",
    "sol = odeModel.solve(initCond, tt)\n",
    "\n",
    "\n",
    "evalt = np.linspace(10,120, 7)\n",
    "tk = np.linspace(0., 120., 25)\n",
    "\n",
    "model_t = np.sort(np.concatenate((evalt, tk)))\n",
    "\n",
    "sol2 = odeModel.solve(initCond, model_t)\n",
    "\n",
    "# Indices of the evaluated points in the augmented time vector\n",
    "eval_t_ind = [sum(tk < t) + sum(evalt < t) for t in evalt]\n",
    "tk_ind = [i for i in range(model_t.size) if not i in eval_t_ind]\n",
    "\n",
    "\n",
    "plt.plot(tt, sol[:,0], '-')\n",
    "plt.plot(evalt, sol2[eval_t_ind,0], 'r+')\n",
    "plt.show()"
   ]
  },
  {
   "cell_type": "code",
   "execution_count": 22,
   "metadata": {},
   "outputs": [],
   "source": [
    "tta, ttm, ttb, Att = time_discretisation_handler(evalt, tk, lambda x: None, 2)\n",
    "\n",
    "tt_ode_solve = np.sort(np.concatenate(([0.], ttm)))\n",
    "tk_ind = [i for i in range(tt_ode_solve.size - 1) if not i in eval_t_ind]\n",
    "\n",
    "sortInds = np.argsort(ttm)\n",
    "evalt_inds = [np.where(sortInds == i)[0][0] for i in range(evalt.size) ]\n",
    "tk_inds = [i for i in range(ttm.size) if not i in evalt_inds]\n",
    "\n",
    "tt_ode = np.concatenate(([0.], ttm[sortInds]))\n",
    "\n",
    "sol = odeModel.solve(initCond, tt_ode)\n",
    "At_ = [odeModel.dXdt_Jac(x) for x in sol[1:,:2] ]\n",
    "Att = [At_[i] for i in evalt_inds] +  [At_[i] for i in tk_inds]\n",
    "\n",
    "###\n",
    "# We are now ready to pass (tta, ttm, ttb), Att to the return the covariance function\n",
    "#\n",
    "#"
   ]
  },
  {
   "cell_type": "code",
   "execution_count": null,
   "metadata": {
    "collapsed": true
   },
   "outputs": [],
   "source": []
  }
 ],
 "metadata": {
  "kernelspec": {
   "display_name": "Python 2",
   "language": "python",
   "name": "python2"
  },
  "language_info": {
   "codemirror_mode": {
    "name": "ipython",
    "version": 2
   },
   "file_extension": ".py",
   "mimetype": "text/x-python",
   "name": "python",
   "nbconvert_exporter": "python",
   "pygments_lexer": "ipython2",
   "version": "2.7.13"
  }
 },
 "nbformat": 4,
 "nbformat_minor": 2
}
