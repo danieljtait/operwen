{
 "cells": [
  {
   "cell_type": "code",
   "execution_count": 1,
   "metadata": {},
   "outputs": [
    {
     "data": {
      "image/png": "[encoded data removed]",
      "text/plain": [
       "<matplotlib.figure.Figure at 0x11281b950>"
      ]
     },
     "metadata": {},
     "output_type": "display_data"
    }
   ],
   "source": [
    "import numpy as np\n",
    "import matplotlib.pyplot as plt\n",
    "import Example1\n",
    "from timevarying_covar import time_discretisation_handler\n",
    "\n",
    "odeModel = Example1.nonlinearFrictionODE()\n",
    "\n",
    "dim = 2\n",
    "initCond = [0., 0.5, 0.8]\n",
    "tt = np.linspace(0., 120, 100)\n",
    "\n",
    "sol = odeModel.solve(initCond, tt)\n",
    "\n",
    "\n",
    "evalt = np.linspace(10,120, 7)\n",
    "tk = np.linspace(0., 120., 25)\n",
    "\n",
    "model_t = np.sort(np.concatenate((evalt, tk)))\n",
    "\n",
    "sol2 = odeModel.solve(initCond, model_t)\n",
    "\n",
    "# Indices of the evaluated points in the augmented time vector\n",
    "eval_t_ind = [sum(tk < t) + sum(evalt < t) for t in evalt]\n",
    "tk_ind = [i for i in range(model_t.size) if not i in eval_t_ind]\n",
    "\n",
    "\n",
    "plt.plot(tt, sol[:,0], '-')\n",
    "plt.plot(evalt, sol2[eval_t_ind,0], 'r+')\n",
    "plt.show()"
   ]
  },
  {
   "cell_type": "code",
   "execution_count": 2,
   "metadata": {},
   "outputs": [],
   "source": [
    "tta, ttm, ttb, Att = time_discretisation_handler(evalt, tk, lambda x: None, 2)\n",
    "\n",
    "tt_ode_solve = np.sort(np.concatenate(([0.], ttm)))\n",
    "tk_ind = [i for i in range(tt_ode_solve.size - 1) if not i in eval_t_ind]\n",
    "\n",
    "sortInds = np.argsort(ttm)\n",
    "evalt_inds = [np.where(sortInds == i)[0][0] for i in range(evalt.size) ]\n",
    "tk_inds = [i for i in range(ttm.size) if not i in evalt_inds]\n",
    "\n",
    "tt_ode = np.concatenate(([0.], ttm[sortInds]))\n",
    "\n",
    "sol = odeModel.solve(initCond, tt_ode)\n",
    "At_ = [odeModel.dXdt_Jac(x) for x in sol[1:,:2] ]\n",
    "Att = [At_[i] for i in evalt_inds] +  [At_[i] for i in tk_inds]\n",
    "\n",
    "###\n",
    "# We are now ready to pass (tta, ttm, ttb), Att to the return the covariance function\n",
    "#\n",
    "#"
   ]
  },
  {
   "cell_type": "code",
   "execution_count": 3,
   "metadata": {},
   "outputs": [],
   "source": [
    "# Steps involved for returning the covariance at a particular \n",
    "\n",
    "# define the ksqexp kernel, with additional pre and post multiplication by a vector b(t)\n",
    "#\n",
    "# slot those features into makeCov and makeCovYf\n",
    "\n",
    "# define points on which the gp should be conditioned\n",
    "fcond_t = np.linspace(0., 120, 6)\n",
    "\n",
    "# Calculate Cov{Y(evalt),Y(evalt)} | Cov{Y(evalt),f(fcond_t)}\n",
    "#                 \n",
    "\n",
    "### Set up the kernel\n",
    "from covariance_util import ksqexp\n",
    "from timevarying_covar import makeCovYf, makeCov_sym\n",
    "\n",
    "cScales = np.array([0., 1.])\n",
    "lScales = np.array([1., 20.])\n",
    "\n",
    "def kfunc(s, t):\n",
    "    return ksqexp(s, t, cScales, lScales, S=None, returnType='matrix')\n",
    "\n",
    "S = np.array(None)\n",
    "\n",
    "k = kfunc(0.3, fcond_t).reshape(fcond_t.size, 4)\n",
    "\n",
    "Cff = kfunc( fcond_t, fcond_t)\n",
    "Cyf = makeCovYf( (tta, ttm, ttb), fcond_t, Att, kfunc, 2)\n",
    "Cyy = makeCov_sym( (tta, ttm, ttb), Att, kfunc, 2)\n",
    "\n",
    "ff_rows = np.array([[1, 1],\n",
    "                 [3, 3]], dtype=np.intp)\n",
    "ff_cols = ff_rows.T\n"
   ]
  },
  {
   "cell_type": "code",
   "execution_count": 4,
   "metadata": {},
   "outputs": [],
   "source": [
    "# Turns out to be easier to pass through a conditioned kernel, because of the singular\n",
    "# dimensions\n",
    "dim = 2\n",
    "ff_rows = np.column_stack(( np.array([i*dim + 1 for i in range(fcond_t.size)])[:,None] for j in range(fcond_t.size)))\n",
    "\n",
    "ff_cols = ff_rows.T\n",
    "\n",
    "Cff_ = Cff[ff_rows, ff_cols]\n",
    "\n",
    "### assumption: will only ever be passed as an argument to makeCov_sym\n",
    "def kfuncCond(s, tcond):\n",
    "    ss_ = np.concatenate((s, tcond))\n",
    "    \n",
    "    Sigma = ksqexp(ss_, ss_, cScales, lScales, S=None, returnType='ind')[1]\n",
    "    S11 = Sigma[:s.size,:s.size]\n",
    "    S12 = Sigma[:s.size,s.size:]\n",
    "    S22 = Sigma[s.size:, s.size:]\n",
    "    \n",
    "    L = np.linalg.cholesky(S22)\n",
    "    \n",
    "    covCond = S11 - np.dot(S12, np.linalg.solve(L.T, np.linalg.solve(L, S12.T)))\n",
    "    return covCond\n",
    "\n"
   ]
  },
  {
   "cell_type": "code",
   "execution_count": 5,
   "metadata": {},
   "outputs": [
    {
     "name": "stdout",
     "output_type": "stream",
     "text": [
      "6.93889390391e-18\n",
      "30\n",
      "30\n"
     ]
    }
   ],
   "source": [
    "import scipy.linalg\n",
    "##\n",
    "# Handles the construction of the kernel in the presence of conditioning\n",
    "# and possibly masked components\n",
    "def Kcond(tt, tcond, cScales, lScales, dim):\n",
    "    result = np.zeros((tt.size*dim, tt.size*dim))\n",
    "    tt_ = np.concatenate((tt, tcond))\n",
    "    Sigma = ksqexp(tt_, tt_, cScales, lScales, S=None, returnType='ind')\n",
    "    \n",
    "    for k in range(dim):\n",
    "        if cScales[k] != 0.:\n",
    "            Sigma_k = Sigma[k]             # The kth component of the GP\n",
    "            S11 = Sigma_k[:tt.size,:tt.size]\n",
    "            S12 = Sigma_k[:tt.size,tt.size:]\n",
    "            S22 = Sigma_k[tt.size:, tt.size:]\n",
    "            L = np.linalg.cholesky(S22)\n",
    "    \n",
    "            covCond = S11 - np.dot(S12, np.linalg.solve(L.T, np.linalg.solve(L, S12.T)))\n",
    "        \n",
    "            # get the indices to put the conditioned covariance back into result\n",
    "            rows = np.column_stack(( np.array([i*dim + k for i in range(tt.size)])[:,None] for j in range(tt.size)))\n",
    "            result[rows, rows.T] = covCond\n",
    "            \n",
    "    return result\n",
    "\n",
    "Cc = Kcond(evalt, fcond_t, cScales, lScales, dim)\n",
    "\n",
    "# Test it\n",
    "#k = 1\n",
    "#rows = np.column_stack(( np.array([i*dim + k for i in range(evalt.size)])[:,None] for j in range(evalt.size)))\n",
    "#print np.linalg.eig(Cc)[0]\n",
    "#print np.linalg.eig(Cc[rows, rows.T])[0]\n",
    "\n",
    "###\n",
    "# Returns the covariance for the nonlinear model deltaY\n",
    "# conditioned on a small Gaussian process\n",
    "def cond_wrapped_makeCov_sym(S, A, dim, tcond, cScales, lScales):\n",
    "    sa, sm, sb = S\n",
    "    ss_full = np.concatenate((sa, sm, sb))\n",
    "    K = Kcond(ss_full, tcond, cScales, lScales, dim)\n",
    "    \n",
    "    \n",
    "    N = S[0].size\n",
    "    \n",
    "    K11 = K[:N*dim, :N*dim]\n",
    "    K12 = K[:N*dim, N*dim:2*N*dim]\n",
    "    K13 = K[:N*dim, 2*N*dim:3*N*dim]\n",
    "    \n",
    "    K21 = K12.T\n",
    "    K22 = K[N*dim:2*N*dim, N*dim:2*N*dim]\n",
    "    K23 = K[N*dim:2*N*dim, 2*N*dim:3*N*dim]\n",
    "    \n",
    "    K31 = K13.T\n",
    "    K32 = K23.T\n",
    "    K33 = K[2*N*dim:, 2*N*dim: ]\n",
    "\n",
    "    result = np.zeros((N*dim, N*dim))\n",
    "\n",
    "    for i in range(N):\n",
    "\n",
    "        eAi1 = scipy.linalg.expm(A[i]*(sb[i]-sa[i]))\n",
    "        eAi2 = scipy.linalg.expm(A[i]*(sb[i]-sm[i]))\n",
    "\n",
    "        for j in range(i+1):\n",
    "\n",
    "            eBj1 = scipy.linalg.expm(A[j].T*(sb[j]-sa[j]))\n",
    "            eBj2 = scipy.linalg.expm(A[j].T*(sb[j]-sm[j]))\n",
    "\n",
    "            I11 = np.dot(eAi1, np.dot(K11[i*dim:(i+1)*dim, j*dim:(j+1)*dim], eBj1))\n",
    "            I12 = 4*np.dot(eAi1, np.dot(K12[i*dim:(i+1)*dim, j*dim:(j+1)*dim], eBj2))\n",
    "            I13 = np.dot(eAi1, K13[i*dim:(i+1)*dim, j*dim:(j+1)*dim])\n",
    "\n",
    "            I21 = np.dot(eAi2, np.dot(K21[i*dim:(i+1)*dim, j*dim:(j+1)*dim], eBj1))\n",
    "            I22 = 4*np.dot(eAi2, np.dot(K22[i*dim:(i+1)*dim, j*dim:(j+1)*dim], eBj2))\n",
    "            I23 = np.dot(eAi2, K23[i*dim:(i+1)*dim, j*dim:(j+1)*dim])\n",
    "\n",
    "            I31 = np.dot(K31[i*dim:(i+1)*dim, j*dim:(j+1)*dim], eBj1)\n",
    "            I32 = 4*np.dot(K32[i*dim:(i+1)*dim, j*dim:(j+1)*dim], eBj2)\n",
    "            I33 = K33[i*dim:(i+1)*dim, j*dim:(j+1)*dim]\n",
    "\n",
    "            expr1 = I11 + I12 + I13\n",
    "            expr2 = I21 + I22 + I23\n",
    "            expr3 = I31 + I32 + I33\n",
    "\n",
    "            ival = (sb[i]-sa[i])*(sb[j]-sa[j])*(expr1 + 4*expr2 + expr3)/36.\n",
    "\n",
    "            result[i*dim:(i+1)*dim, j*dim:(j+1)*dim] = ival\n",
    "            result[j*dim:(j+1)*dim, i*dim:(i+1)*dim] = ival.T\n",
    "\n",
    "    return result\n",
    "    \n",
    "    \n",
    "SigmaDyDy = cond_wrapped_makeCov_sym( (tta, ttm, ttb), Att, 2, fcond_t, cScales, lScales)\n",
    "print np.max(abs(SigmaDyDy - SigmaDyDy.T))\n",
    "\n",
    "print evalt.size + sum(tk < evalt[-1]) - 1\n",
    "print tta.size\n",
    "from core import MaketvcTransformationMatrix\n",
    "#T = MaketvcTransformationMatrix(evalt, tk, At, 2)"
   ]
  },
  {
   "cell_type": "code",
   "execution_count": null,
   "metadata": {},
   "outputs": [],
   "source": [
    "\n",
    "                \n",
    "                \n",
    "    "
   ]
  },
  {
   "cell_type": "code",
   "execution_count": 6,
   "metadata": {},
   "outputs": [
    {
     "name": "stdout",
     "output_type": "stream",
     "text": [
      "[[ 1.17586024  0.08390179  1.          0.        ]\n",
      " [ 0.          0.90737451  0.          1.        ]]\n",
      "=========================\n"
     ]
    }
   ],
   "source": [
    "def At(t):\n",
    "    return np.array([[ t, 0.3],\n",
    "                     [0., -t**2]])\n",
    "\n",
    "tt = np.array([0.2, 0.5, 0.6, 0.8])\n",
    "tk = np.array([0., 0.33, 0.66, 1.0])\n",
    "\n",
    "Ati = [At(t) for t in tt]\n",
    "Atk = [At(t) for t in tk]\n",
    "\n",
    "i = 2\n",
    "dim = 2\n",
    "NG = sum(tk < tt[-1]) - 1\n",
    "Id = np.diag(np.ones(dim))\n",
    "\n",
    "Trow = np.column_stack(( Id for nt in range(NG) ))\n",
    "\n",
    "# relevant collection of tks\n",
    "tauSet = tk[tk < tt[i]]\n",
    "tauSet = tauSet[1:]\n",
    "\n",
    "import scipy.linalg\n",
    "from scipy.linalg import expm\n",
    "\n",
    "if len(tauSet > 0):\n",
    "    for nt in range(tauSet.size - 1):\n",
    "        eA = scipy.linalg.expm(Atk[nt+1]*(tauSet[nt+1]-tauSet[nt]))\n",
    "        for k in range(nt+1):\n",
    "            Trow[:,k*dim:(k+1)*dim] = np.dot( eA, Trow[:,k*dim:(k+1)*dim] )\n",
    "\n",
    "    eAi = scipy.linalg.expm(Ati[i]*(tt[i] - tauSet[-1]))\n",
    "    for k in range(len(tauSet)):\n",
    "        Trow[:,k*dim:(k+1)*dim] = np.dot( eAi, Trow[:,k*dim:(k+1)*dim] )\n",
    "\n",
    "print Trow\n",
    "print \"=========================\"\n"
   ]
  },
  {
   "cell_type": "code",
   "execution_count": 7,
   "metadata": {
    "scrolled": true
   },
   "outputs": [
    {
     "name": "stdout",
     "output_type": "stream",
     "text": [
      "[[ 1.          0.          1.          0.        ]\n",
      " [ 0.          1.          0.          1.        ]\n",
      " [ 1.08871707  0.05213064  1.          0.        ]\n",
      " [ 0.          0.95839047  0.          1.        ]\n",
      " [ 1.17586024  0.08390179  1.          0.        ]\n",
      " [ 0.          0.90737451  0.          1.        ]\n",
      " [ 1.2471987   0.15599069  1.11851286  0.04254501]\n",
      " [ 0.          0.88202313  0.          0.91429683]]\n"
     ]
    }
   ],
   "source": [
    "def makeT( Ati, Atk, tt, tk, dim):\n",
    "    NG = sum(tk < tt[-1]) - 1\n",
    "    Id = np.diag(np.ones(dim))\n",
    "    \n",
    "    result = np.zeros((tt.size*dim, NG*dim))\n",
    "    \n",
    "    for i in range(tt.size):\n",
    "        result[i*dim:(i+1)*dim, :] = np.column_stack((Id for nt in range(NG)))\n",
    "        \n",
    "        tauSet = tk[tk < tt[i]]\n",
    "        tauSet = tauSet[1:]\n",
    "        \n",
    "        if len(tauSet > 0):\n",
    "            for nt in range(tauSet.size - 1):\n",
    "                eA = scipy.linalg.expm(Atk[nt+1]*(tauSet[nt+1]-tauSet[nt]))\n",
    "                for k in range(nt+1):\n",
    "                    result[i*dim:(i+1)*dim, k*dim:(k+1)*dim] = np.dot(eA, result[i*dim:(i+1)*dim, k*dim:(k+1)*dim] )\n",
    "            \n",
    "            eAi = scipy.linalg.expm(Ati[i]*(tt[i] - tauSet[-1]))\n",
    "            for k in range(len(tauSet)):\n",
    "                result[i*dim:(i+1)*dim, k*dim:(k+1)*dim] = np.dot( eAi, result[i*dim:(i+1)*dim, k*dim:(k+1)*dim] )\n",
    "    \n",
    "    return result\n",
    "\n",
    "print makeT( Ati, Atk, tt, tk, 2)\n"
   ]
  },
  {
   "cell_type": "code",
   "execution_count": 10,
   "metadata": {},
   "outputs": [
    {
     "name": "stdout",
     "output_type": "stream",
     "text": [
      "(14, 6)\n",
      "(20, 20)\n",
      "(14, 20)\n",
      "[  1.12989666e+01   1.08098510e+00   1.86936032e-01   4.10489004e-02\n",
      "   4.49185855e-03   1.00762639e-04   3.99081505e-06   8.43791389e-12\n",
      "   4.36718563e-14   9.56966390e-16   5.48935515e-19  -5.20019066e-21\n",
      "   5.80940566e-24   6.61654431e-27]\n"
     ]
    }
   ],
   "source": [
    "from get_cov_result import result\n",
    "\n",
    "R = result(evalt, tk, 2, \n",
    "           fcond_t, cScales, lScales,\n",
    "           odeModel, initCond, 0.)\n",
    "\n",
    "print np.linalg.eig(R)[0]"
   ]
  },
  {
   "cell_type": "code",
   "execution_count": 27,
   "metadata": {},
   "outputs": [
    {
     "name": "stdout",
     "output_type": "stream",
     "text": [
      "[ 0.2  0.5  0.6  0.8]\n",
      "[ 0.    0.33  0.66  1.  ]\n",
      "[ 0.    0.33  0.33  0.66  0.    0.33]\n",
      "[ 0.2   0.5   0.6   0.8   0.33  0.66]\n"
     ]
    }
   ],
   "source": [
    "tta, ttm, ttb, Att = time_discretisation_handler(tt, tk, lambda x: None, dim)\n",
    "\n",
    "print tt\n",
    "print tk\n",
    "print tta\n",
    "print ttb"
   ]
  },
  {
   "cell_type": "code",
   "execution_count": 31,
   "metadata": {},
   "outputs": [
    {
     "name": "stdout",
     "output_type": "stream",
     "text": [
      "[ 0.]\n",
      "[   5.   25.   45.   60.   80.  100.  115.    0.    5.   10.   15.   20.\n",
      "   25.   30.   35.   40.   45.   50.   55.   60.   65.   70.   75.   80.\n",
      "   85.   90.   95.  100.  105.  110.]\n",
      "[ 0.2  0.5  0.6  0.8]\n"
     ]
    },
    {
     "data": {
      "text/plain": [
       "array([   0.,   24.,   48.,   72.,   96.,  120.])"
      ]
     },
     "execution_count": 31,
     "metadata": {},
     "output_type": "execute_result"
    }
   ],
   "source": [
    "# \n",
    "tmax = tt[-1]\n",
    "\n",
    "tknots = tk[tk < tmax]\n",
    "print tknots\n",
    "\n",
    "\n",
    "\n",
    "#tta = np.concatenate(( tknots, tknots[:-1]))\n",
    "ttb = np.concatenate(( tt, tknots[1:]))\n",
    "print tta\n",
    "print ttb\n",
    "fcond_t"
   ]
  },
  {
   "cell_type": "code",
   "execution_count": 50,
   "metadata": {},
   "outputs": [
    {
     "name": "stdout",
     "output_type": "stream",
     "text": [
      "(200, 26)\n",
      "(226, 226)\n",
      "(200, 226)\n"
     ]
    },
    {
     "data": {
      "image/png": "[encoded data removed]",
      "text/plain": [
       "<matplotlib.figure.Figure at 0x113e78950>"
      ]
     },
     "metadata": {},
     "output_type": "display_data"
    }
   ],
   "source": [
    "evalt = np.linspace(0.001,120, 100)\n",
    "tk = np.linspace(0., 120., 15)\n",
    "\n",
    "sol = odeModel.solve(initCond, np.concatenate(([0.], evalt)))[1:,]\n",
    "\n",
    "fcond_t = np.linspace(0., 120, 5)\n",
    "\n",
    "R = result(evalt, tk, 2, \n",
    "           fcond_t, cScales, lScales,\n",
    "           odeModel, initCond, 0.)\n",
    "\n",
    "compInd = 0\n",
    "\n",
    "var = np.diag(R).reshape(evalt.size, 2)\n",
    "sd = np.sqrt(var)[:,compInd]\n",
    "\n",
    "fig = plt.figure()\n",
    "ax = fig.add_subplot(111)\n",
    "\n",
    "#ax.fill_between(evalt, sol[:,compInd] - 2*sd, sol[:,compInd] + 2*sd, alpha=0.2)\n",
    "#ax.set_xlim((20, 80))\n",
    "ax.fill_between(evalt,  - 2*sd, + 2*sd, alpha=0.2)\n",
    "#ax.plot(evalt, sol[:,compInd], 'k-.')\n",
    "plt.show()"
   ]
  },
  {
   "cell_type": "code",
   "execution_count": 59,
   "metadata": {},
   "outputs": [
    {
     "name": "stdout",
     "output_type": "stream",
     "text": [
      "-1.5963011847 -0.626448197611\n",
      "-2.15669373262 -0.463672697183\n",
      "-2.40210991827 -0.41630068316\n",
      "-2.5201928607 -0.396795029299\n",
      "-2.57987498995 -0.387615680565\n",
      "-2.60836656479 -0.383381696997\n",
      "-2.61691121105 -0.382129892591\n",
      "-2.60972209791 -0.383182562159\n",
      "-2.58676034941 -0.386583937019\n",
      "-2.543515262 -0.393156673734\n",
      "-2.46690374325 -0.405366444774\n",
      "-2.31768528605 -0.431464964643\n",
      "-1.9206410932 -0.52065948372\n",
      "-0.592573054826 -0.592573054826\n",
      "-0.073566521001 -0.073566521001\n",
      "-0.0537072863322 -0.0537072863322\n",
      "-2.99984763917 -0.333350263174\n",
      "-2.99978127158 -0.333357638263\n",
      "-2.99968625488 -0.333368197548\n",
      "-2.99955044403 -0.333383291483\n",
      "-2.99935704775 -0.333404787786\n",
      "-2.99908180356 -0.333435386395\n",
      "-2.99869290137 -0.33347862982\n",
      "-2.99814649661 -0.333539405473\n",
      "-2.99738536321 -0.33362410195\n",
      "-2.99633716377 -0.333740812647\n",
      "-2.99491498906 -0.333899293854\n",
      "-2.99302229027 -0.334110441893\n",
      "-2.99056372083 -0.334385117105\n",
      "-2.9874635656 -0.334732115737\n",
      "-2.98368942726 -0.335155526196\n",
      "-2.9792750386 -0.335652125783\n",
      "-2.97433088495 -0.33621007167\n",
      "-2.96903530176 -0.336809737293\n",
      "-2.96360353627 -0.337427050468\n",
      "-2.95824609863 -0.33803813701\n",
      "-2.95313162861 -0.338623578547\n",
      "-2.94836689167 -0.339170814469\n",
      "-2.94399501961 -0.339674487673\n",
      "-2.94000760573 -0.340135174498\n",
      "-2.93636181011 -0.34055748735\n",
      "-2.93299637525 -0.340948256343\n",
      "-2.92984369634 -0.341315136111\n",
      "-2.92683731303 -0.341665727558\n",
      "-2.92391574498 -0.342007118952\n",
      "-2.92102383555 -0.34234571722\n",
      "-2.91811245611 -0.342687273037\n",
      "-2.91513758854 -0.343036981832\n",
      "-2.91205890686 -0.343399646774\n",
      "-2.90883825623 -0.343779857081\n",
      "-2.90543819728 -0.344182161897\n",
      "-2.9018204006 -0.344611265326\n",
      "-2.89794414504 -0.345072213248\n",
      "-2.89376462518 -0.345570607678\n",
      "-2.88923103668 -0.34611285401\n",
      "-2.8842841623 -0.3467064768\n",
      "-2.87885373443 -0.347360474775\n",
      "-2.87285450604 -0.348085849073\n",
      "-2.86618127344 -0.348896285545\n",
      "-2.85870180902 -0.349809132538\n",
      "-2.85024672275 -0.350846820389\n",
      "-2.84059465735 -0.352038963889\n",
      "-2.829449483 -0.353425641987\n",
      "-2.81640440441 -0.355062645987\n",
      "-2.8008825456 -0.357030323022\n",
      "-2.78203399956 -0.359449237557\n",
      "-2.75854510287 -0.362509932848\n",
      "-2.72825763336 -0.366534299318\n",
      "-2.68732432789 -0.372117347214\n",
      "-2.62806064139 -0.380508723525\n",
      "-2.53225592795 -0.394904791796\n",
      "-2.34239507374 -0.42691346614\n",
      "-1.72506233856 -0.579689195949\n",
      "-0.263359300433 -0.263359300433\n",
      "-0.0517456589133 -0.0517456589133\n",
      "-0.0645372829262 -0.0645372829262\n",
      "-2.99992295197 -0.333341894445\n",
      "-2.99988928524 -0.333345635428\n",
      "-2.99984098886 -0.333351002174\n",
      "-2.99977175173 -0.333358696182\n",
      "-2.99967244306 -0.333369732523\n",
      "-2.99953096642 -0.333385456325\n",
      "-2.99932913846 -0.333407890177\n",
      "-2.99904255892 -0.333439749638\n",
      "-2.9986376346 -0.33348477604\n",
      "-2.998069333 -0.333547990032\n",
      "-2.9972784205 -0.333636005638\n",
      "-2.99619164884 -0.333757021313\n",
      "-2.99472028403 -0.333921002683\n",
      "-2.99276784537 -0.334138847939\n",
      "-2.99024095561 -0.33442121048\n",
      "-2.98706881309 -0.334776351859\n",
      "-2.98322731687 -0.33520744274\n",
      "-2.97876017831 -0.33571014118\n",
      "-2.9737882538 -0.336271420375\n",
      "-2.96849670418 -0.336870847318\n",
      "-2.96310201813 -0.337484161491\n",
      "-2.95781027124 -0.33808794625\n",
      "-2.95278168958 -0.338663709386\n",
      "-2.9481133525 -0.339199983323\n",
      "0.0\n"
     ]
    }
   ],
   "source": [
    "eigMax = 0.\n",
    "for x in sol[:,]:\n",
    "    A = odeModel.dXdt_Jac(x)\n",
    "    eig = np.linalg.eig(A)[0]\n",
    "    Re_eig = np.real(eig)\n",
    "    print min(Re_eig), max(Re_eig)\n",
    "    if max(Re_eig) > eigMax:\n",
    "        eigMax = max(Re_eig)\n",
    "\n",
    "print eigMax"
   ]
  },
  {
   "cell_type": "code",
   "execution_count": null,
   "metadata": {
    "collapsed": true
   },
   "outputs": [],
   "source": []
  }
 ],
 "metadata": {
  "kernelspec": {
   "display_name": "Python 2",
   "language": "python",
   "name": "python2"
  },
  "language_info": {
   "codemirror_mode": {
    "name": "ipython",
    "version": 2
   },
   "file_extension": ".py",
   "mimetype": "text/x-python",
   "name": "python",
   "nbconvert_exporter": "python",
   "pygments_lexer": "ipython2",
   "version": "2.7.13"
  }
 },
 "nbformat": 4,
 "nbformat_minor": 2
}
